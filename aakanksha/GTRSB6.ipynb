{
  "cells": [
    {
      "cell_type": "markdown",
      "metadata": {
        "id": "R35QgREUXzLP"
      },
      "source": [
        "Imports"
      ]
    },
    {
      "cell_type": "markdown",
      "metadata": {
        "id": "g8vJpohbddVn"
      },
      "source": [
        "Summary:\n",
        "\n",
        "- removed dropouts as we have a high bias problem not a high varience one\n",
        "- made the modelmore dense and tested with 5 layers and 7 layers.\n",
        "- Sweet spot at 5 layers, got an increase in accuracy\n"
      ]
    },
    {
      "cell_type": "code",
      "execution_count": null,
      "metadata": {
        "id": "yiVelHKGY1-8"
      },
      "outputs": [],
      "source": [
        "import numpy as np\n",
        "import torch\n",
        "import torch.nn as nn\n",
        "import torch.nn.functional as F\n",
        "import torch.optim as optim\n",
        "import torchvision\n",
        "import matplotlib.pyplot as plt\n",
        "import requests\n",
        "import time\n",
        "import os\n",
        "import copy\n",
        "import seaborn as sns\n",
        "\n",
        "from pathlib import Path\n",
        "from matplotlib import pyplot as plt\n",
        "from torch.utils.data import TensorDataset\n",
        "from torch.utils.data import DataLoader\n",
        "from torch.utils.data import random_split\n",
        "from sklearn.metrics import confusion_matrix\n",
        "from PIL import Image\n",
        "# from torch.optim import lr_scheduler\n",
        "# from torchvision import datasets, models, transforms\n"
      ]
    },
    {
      "cell_type": "markdown",
      "metadata": {
        "id": "5AVTHGfBcSJV"
      },
      "source": [
        "Display the matplotlib images inline, and set to interactive mode"
      ]
    },
    {
      "cell_type": "code",
      "execution_count": null,
      "metadata": {
        "colab": {
          "base_uri": "https://localhost:8080/"
        },
        "id": "I8sovqifcVqx",
        "outputId": "59597f8d-5926-44ac-ef8d-b2916d15da3b"
      },
      "outputs": [
        {
          "data": {
            "text/plain": [
              "<contextlib.ExitStack at 0x78100eb04160>"
            ]
          },
          "execution_count": 2,
          "metadata": {},
          "output_type": "execute_result"
        }
      ],
      "source": [
        "%matplotlib inline\n",
        "\n",
        "plt.ion()"
      ]
    },
    {
      "cell_type": "markdown",
      "metadata": {
        "id": "NUAUeQBaYz0v"
      },
      "source": [
        "First, load the dataset and print some of the images just to test the loader correctly."
      ]
    },
    {
      "cell_type": "code",
      "execution_count": null,
      "metadata": {
        "colab": {
          "base_uri": "https://localhost:8080/"
        },
        "id": "EqQINCTuXx1f",
        "outputId": "e8ba6d3c-ad43-44c5-c584-35890729ca8d"
      },
      "outputs": [
        {
          "name": "stdout",
          "output_type": "stream",
          "text": [
            "Downloading https://sid.erda.dk/public/archives/daaeac0d7ce1152aea9b61d9f1e19370/GTSRB-Training_fixed.zip to /content/gtsrb/GTSRB-Training_fixed.zip\n"
          ]
        },
        {
          "name": "stderr",
          "output_type": "stream",
          "text": [
            "100%|██████████| 187M/187M [00:06<00:00, 28.6MB/s]\n"
          ]
        },
        {
          "name": "stdout",
          "output_type": "stream",
          "text": [
            "Extracting /content/gtsrb/GTSRB-Training_fixed.zip to /content/gtsrb\n",
            "Downloading https://sid.erda.dk/public/archives/daaeac0d7ce1152aea9b61d9f1e19370/GTSRB_Final_Test_Images.zip to /content/gtsrb/GTSRB_Final_Test_Images.zip\n"
          ]
        },
        {
          "name": "stderr",
          "output_type": "stream",
          "text": [
            "100%|██████████| 89.0M/89.0M [00:03<00:00, 24.9MB/s]\n"
          ]
        },
        {
          "name": "stdout",
          "output_type": "stream",
          "text": [
            "Extracting /content/gtsrb/GTSRB_Final_Test_Images.zip to /content/gtsrb\n",
            "Downloading https://sid.erda.dk/public/archives/daaeac0d7ce1152aea9b61d9f1e19370/GTSRB_Final_Test_GT.zip to /content/gtsrb/GTSRB_Final_Test_GT.zip\n"
          ]
        },
        {
          "name": "stderr",
          "output_type": "stream",
          "text": [
            "100%|██████████| 99.6k/99.6k [00:00<00:00, 299kB/s]\n"
          ]
        },
        {
          "name": "stdout",
          "output_type": "stream",
          "text": [
            "Extracting /content/gtsrb/GTSRB_Final_Test_GT.zip to /content/gtsrb\n"
          ]
        }
      ],
      "source": [
        "img_32x32_size_transform = torchvision.transforms.Compose([\n",
        "    torchvision.transforms.Resize((32, 32)),  # ensure that images are 32x32\n",
        "    torchvision.transforms.ToTensor(),\n",
        "    # torchvision.transforms.Normalize(mean=[0.5, 0.5, 0.5], std=[0.5, 0.5, 0.5]) # normalize to [-1,1]\n",
        "])\n",
        "\n",
        "gtsrb_path = \"/content\"\n",
        "\n",
        "train_percent = 0.8 # 80% training set -> 20% validation set\n",
        "\n",
        "train_set = torchvision.datasets.GTSRB(root=gtsrb_path, split='train', download=True, transform=img_32x32_size_transform)\n",
        "\n",
        "train_size = int(train_percent*len(train_set))\n",
        "\n",
        "val_size = int(len(train_set) - train_size)\n",
        "\n",
        "train_set, val_set = random_split(train_set,[train_size, val_size])\n",
        "\n",
        "test_set = torchvision.datasets.GTSRB(root=gtsrb_path, split='test', download=True, transform=img_32x32_size_transform)\n",
        "\n",
        "test_set_size = int(len(test_set)*0.9)\n",
        "\n",
        "test_vis_size= int(len(test_set) - test_set_size)\n",
        "\n",
        "test_set, test_vis_set = random_split(test_set,[test_set_size,test_vis_size])\n",
        "\n",
        "training_path = f\"{gtsrb_path}/gtsrb/GTSRB/Training\""
      ]
    },
    {
      "cell_type": "markdown",
      "metadata": {
        "id": "WtE7_fO5ceWw"
      },
      "source": [
        "Setting the hyper parameters"
      ]
    },
    {
      "cell_type": "code",
      "execution_count": null,
      "metadata": {
        "id": "YH01y1gHfbrg"
      },
      "outputs": [],
      "source": [
        "bs = 128  # batch size\n",
        "lr = 0.01  # learning rate\n",
        "epochs = 20  # number of epochs\n",
        "momentum = 0.9 # for optimizer\n",
        "step_size = 7 # step size for\n",
        "gamma = 0.1 # gamma for learning rate scheduler"
      ]
    },
    {
      "cell_type": "markdown",
      "metadata": {
        "id": "ZMZ2R9tWo_Uu"
      },
      "source": [
        "Initializing the classes label names"
      ]
    },
    {
      "cell_type": "code",
      "execution_count": null,
      "metadata": {
        "id": "CsvON3J1pD2s"
      },
      "outputs": [],
      "source": [
        "# TODO: create the label names array to map the numbers into label names for presenting predictions\n",
        "\n",
        "class_names = [\n",
        "    \"Speed limit (20km/h)\",         # 0\n",
        "    \"Speed limit (30km/h)\",         # 1\n",
        "    \"Speed limit (50km/h)\",         # 2\n",
        "    \"Speed limit (60km/h)\",         # 3\n",
        "    \"Speed limit (70km/h)\",         # 4\n",
        "    \"Speed limit (80km/h)\",         # 5\n",
        "    \"End of speed limit (80km/h)\",  # 6\n",
        "    \"Speed limit (100km/h)\",        # 7\n",
        "    \"Speed limit (120km/h)\",        # 8\n",
        "    \"No passing\",                   # 9\n",
        "    \"No passing for vehicles over 3.5 metric tons\",  # 10\n",
        "    \"Right-of-way at the next intersection\",         # 11\n",
        "    \"Priority road\",                # 12\n",
        "    \"Yield\",                        # 13\n",
        "    \"Stop\",                         # 14\n",
        "    \"No vehicles\",                  # 15\n",
        "    \"Vehicles over 3.5 metric tons prohibited\",      # 16\n",
        "    \"No entry\",                     # 17\n",
        "    \"General caution\",              # 18\n",
        "    \"Dangerous curve to the left\",  # 19\n",
        "    \"Dangerous curve to the right\", # 20\n",
        "    \"Double curve\",                 # 21\n",
        "    \"Bumpy road\",                   # 22\n",
        "    \"Slippery road\",                # 23\n",
        "    \"Road narrows on the right\",    # 24\n",
        "    \"Road work\",                    # 25\n",
        "    \"Traffic signals\",              # 26\n",
        "    \"Pedestrians\",                  # 27\n",
        "    \"Children crossing\",            # 28\n",
        "    \"Bicycles crossing\",            # 29\n",
        "    \"Beware of ice/snow\",           # 30\n",
        "    \"Wild animals crossing\",        # 31\n",
        "    \"End of all speed and passing limits\",  # 32\n",
        "    \"Turn right ahead\",             # 33\n",
        "    \"Turn left ahead\",              # 34\n",
        "    \"Ahead only\",                   # 35\n",
        "    \"Go straight or right\",         # 36\n",
        "    \"Go straight or left\",          # 37\n",
        "    \"Keep right\",                   # 38\n",
        "    \"Keep left\",                    # 39\n",
        "    \"Roundabout mandatory\",         # 40\n",
        "    \"End of no passing\",            # 41\n",
        "    \"End of no passing by vehicles over 3.5 metric tons\"  # 42\n",
        "]"
      ]
    },
    {
      "cell_type": "markdown",
      "metadata": {
        "id": "j0uNMjp6ksGP"
      },
      "source": [
        "Creating the loader for the data"
      ]
    },
    {
      "cell_type": "code",
      "execution_count": null,
      "metadata": {
        "id": "_39CFRv-kuqD"
      },
      "outputs": [],
      "source": [
        "train_data_loader = DataLoader(train_set,batch_size=bs, shuffle=True) # schuffle only in train set\n",
        "val_data_loader = DataLoader(val_set,batch_size=bs, shuffle=True)\n",
        "test_data_loader = DataLoader(test_set,batch_size=bs, shuffle=False)\n",
        "test_vis_data_loader = DataLoader(test_vis_set, batch_size=bs, shuffle=False)\n",
        "\n",
        "data_loaders = {\n",
        "    \"train\": train_data_loader,\n",
        "    \"val\" : val_data_loader,\n",
        "    \"test\": test_data_loader,\n",
        "    \"vis\": test_vis_data_loader\n",
        "}\n",
        "\n",
        "data_set_sizes = {\n",
        "    \"train\": len(train_data_loader),\n",
        "    \"val\": len(val_data_loader),\n",
        "    \"test\": len(test_data_loader),\n",
        "    \"vis\": len(test_vis_data_loader)\n",
        "}"
      ]
    },
    {
      "cell_type": "markdown",
      "metadata": {
        "id": "DgE7wXWAkw4e"
      },
      "source": [
        "Optionally print some images out of the dataset (since batch size is 64, we get 64 images out of the dataset)"
      ]
    },
    {
      "cell_type": "markdown",
      "metadata": {
        "id": "XjPTBzm-nhIX"
      },
      "source": [
        "Setting up the model"
      ]
    },
    {
      "cell_type": "code",
      "execution_count": null,
      "metadata": {
        "colab": {
          "base_uri": "https://localhost:8080/"
        },
        "collapsed": true,
        "id": "OFicp2o2nlbV",
        "outputId": "2c3f5f34-abc5-45c2-bc91-538ec089576b"
      },
      "outputs": [
        {
          "name": "stderr",
          "output_type": "stream",
          "text": [
            "/usr/local/lib/python3.10/dist-packages/torchvision/models/_utils.py:208: UserWarning: The parameter 'pretrained' is deprecated since 0.13 and may be removed in the future, please use 'weights' instead.\n",
            "  warnings.warn(\n",
            "/usr/local/lib/python3.10/dist-packages/torchvision/models/_utils.py:223: UserWarning: Arguments other than a weight enum or `None` for 'weights' are deprecated since 0.13 and may be removed in the future. The current behavior is equivalent to passing `weights=MobileNet_V2_Weights.IMAGENET1K_V1`. You can also use `weights=MobileNet_V2_Weights.DEFAULT` to get the most up-to-date weights.\n",
            "  warnings.warn(msg)\n",
            "Downloading: \"https://download.pytorch.org/models/mobilenet_v2-b0353104.pth\" to /root/.cache/torch/hub/checkpoints/mobilenet_v2-b0353104.pth\n",
            "100%|██████████| 13.6M/13.6M [00:00<00:00, 86.3MB/s]\n"
          ]
        }
      ],
      "source": [
        "# Load the pre-trained MobileNetV2 model\n",
        "# pretrained=True indicates we'll use weights pre-trained on ImageNet\n",
        "model = torchvision.models.mobilenet_v2(pretrained=True)\n",
        "\n",
        "# Get the number of input features for the classifier's fully connected layer\n",
        "# This is needed to define the input size for our custom classifier\n",
        "in_feature_number = model.classifier[1].in_features\n",
        "\n",
        "# Replace the original classifier with a custom one\n",
        "# This allows us to fine-tune the model for our specific task (GTSRB dataset)\n",
        "# model.classifier = nn.Sequential(\n",
        "#     #nn.Dropout(p=0.2,inplace=False),  # Add dropout for regularization\n",
        "#     nn.Linear(in_feature_number, 43) # Fully connected layer with 43 outputs (for 43 classes)\n",
        "# )\n",
        "\n",
        "model.classifier = nn.Sequential(\n",
        "    nn.Linear(in_feature_number, 2048),  # First dense layer with 2048 units\n",
        "    nn.ReLU(),                           # ReLU activation\n",
        "    nn.Linear(2048, 1024),                # Second dense layer with 1024 units\n",
        "    nn.ReLU(),                           # ReLU activation\n",
        "    nn.Linear(1024, 512),                 # Third dense layer with 512 units\n",
        "    nn.ReLU(),                           # ReLU activation\n",
        "    nn.Linear(512, 256),                  # Fourth dense layer with 256 units\n",
        "    nn.ReLU(),                           # ReLU activation\n",
        "    nn.Linear(256, 43)                    # Final output layer with 43 classes (for GTSRB)\n",
        ")\n",
        "\n",
        "\n",
        "\n",
        "# Print the model's architecture to the console\n",
        "#print(model)"
      ]
    },
    {
      "cell_type": "markdown",
      "metadata": {
        "id": "q11rkjxwPgD3"
      },
      "source": [
        "Using the GPU if available"
      ]
    },
    {
      "cell_type": "code",
      "execution_count": null,
      "metadata": {
        "id": "GeKZ1L3uPlLW"
      },
      "outputs": [],
      "source": [
        "device = torch.device(\"cuda:0\" if torch.cuda.is_available() else \"cpu\")"
      ]
    },
    {
      "cell_type": "markdown",
      "metadata": {
        "id": "OQIdCnmuoHQS"
      },
      "source": [
        "Setting up the training method"
      ]
    },
    {
      "cell_type": "code",
      "execution_count": null,
      "metadata": {
        "id": "JHUoFf8loMEl"
      },
      "outputs": [],
      "source": [
        "# Generic function to train a model\n",
        "def train_model(model, criterion, optimizer, scheduler, num_epochs=25):\n",
        "    since = time.time()\n",
        "\n",
        "    # Copy weights\n",
        "    best_model_wts = copy.deepcopy(model.state_dict())\n",
        "    best_acc = 0.0\n",
        "\n",
        "    # Lists to store metrics for plotting\n",
        "    train_loss_history = []\n",
        "    val_loss_history = []\n",
        "    train_acc_history = []\n",
        "    val_acc_history = []\n",
        "\n",
        "    for epoch in range(num_epochs):\n",
        "        print(f\"Epoch {epoch}/{num_epochs-1}\")\n",
        "        print('-' * 20)\n",
        "\n",
        "        # Each epoch has a training and validation phase\n",
        "        for phase in ['train', 'val']:\n",
        "            if phase == 'train':\n",
        "                scheduler.step()\n",
        "                model.train()  # Set model to training mode\n",
        "            else:\n",
        "                model.eval()   # Set model to evaluate mode\n",
        "\n",
        "            running_loss = 0.0\n",
        "            running_corrects = 0\n",
        "\n",
        "            # Iterate over data.\n",
        "            for inputs, labels in data_loaders[phase]:\n",
        "                inputs = inputs.to(device)\n",
        "                labels = labels.to(device)\n",
        "\n",
        "                # zero the parameter gradients\n",
        "                optimizer.zero_grad()\n",
        "\n",
        "                # forward\n",
        "                # track history only if in train\n",
        "                with torch.set_grad_enabled(phase == 'train'):\n",
        "                    outputs = model(inputs)\n",
        "                    _, preds = torch.max(outputs, 1)\n",
        "                    loss = criterion(outputs, labels)\n",
        "\n",
        "                    # backward + optimize only if in training phase\n",
        "                    if phase == 'train':\n",
        "                        loss.backward()\n",
        "                        optimizer.step()\n",
        "\n",
        "                # statistics\n",
        "                running_loss += loss.item() * inputs.size(0)\n",
        "                running_corrects += torch.sum(preds == labels.data)\n",
        "\n",
        "            epoch_loss = running_loss / data_set_sizes[phase]\n",
        "            epoch_acc = running_corrects.double().cpu().numpy() / data_set_sizes[phase]\n",
        "\n",
        "            print('{} Loss: {:.4f} Acc: {:.4f}'.format(\n",
        "                phase, epoch_loss, epoch_acc))\n",
        "\n",
        "            # Record loss and accuracy for plotting\n",
        "            if phase == 'train':\n",
        "                train_loss_history.append(epoch_loss)\n",
        "                train_acc_history.append(epoch_acc)\n",
        "            else:\n",
        "                val_loss_history.append(epoch_loss)\n",
        "                val_acc_history.append(epoch_acc)\n",
        "\n",
        "            # deep copy the model\n",
        "            if phase == 'val' and epoch_acc > best_acc:\n",
        "                best_acc = epoch_acc\n",
        "                best_model_wts = copy.deepcopy(model.state_dict())\n",
        "\n",
        "        print()\n",
        "\n",
        "    time_elapsed = time.time() - since\n",
        "    print('Training complete in {:.0f}m {:.0f}s'.format(\n",
        "        time_elapsed // 60, time_elapsed % 60))\n",
        "    print('Best val Acc: {:4f}'.format(best_acc))\n",
        "\n",
        "    # load best model weights\n",
        "    model.load_state_dict(best_model_wts)\n",
        "\n",
        "        # Plot loss and accuracy\n",
        "    epochs_range = range(num_epochs)\n",
        "    plt.figure(figsize=(12, 4))\n",
        "\n",
        "    # Plotting Loss\n",
        "    plt.subplot(1, 2, 1)\n",
        "    plt.plot(epochs_range, train_loss_history, label=\"Training Loss\")\n",
        "    plt.plot(epochs_range, val_loss_history, label=\"Validation Loss\")\n",
        "    plt.legend(loc=\"upper right\")\n",
        "    plt.title(\"Training and Validation Loss\")\n",
        "\n",
        "    # Plotting Accuracy\n",
        "    plt.subplot(1, 2, 2)\n",
        "    plt.plot(epochs_range, train_acc_history, label=\"Training Accuracy\")\n",
        "    plt.plot(epochs_range, val_acc_history, label=\"Validation Accuracy\")\n",
        "    plt.legend(loc=\"lower right\")\n",
        "    plt.title(\"Training and Validation Accuracy\")\n",
        "\n",
        "    plt.show()\n",
        "\n",
        "\n",
        "    return model"
      ]
    },
    {
      "cell_type": "markdown",
      "metadata": {
        "id": "x8sXAaNjV9t9"
      },
      "source": [
        "Setting up the visualizing method"
      ]
    },
    {
      "cell_type": "code",
      "execution_count": null,
      "metadata": {
        "colab": {
          "background_save": true
        },
        "id": "rYHBYrtZWCuB"
      },
      "outputs": [],
      "source": [
        "def evaluate_model(model):\n",
        "    was_training = model.training\n",
        "    model.eval()\n",
        "\n",
        "    all_preds = []\n",
        "    all_labels = []\n",
        "\n",
        "    with torch.no_grad():\n",
        "        for i, (inputs, labels) in enumerate(data_loaders['test']):\n",
        "            inputs = inputs.to(device)\n",
        "            labels = labels.to(device)\n",
        "\n",
        "            outputs = model(inputs)\n",
        "            _, preds = torch.max(outputs, 1)\n",
        "\n",
        "            all_preds.extend(preds.cpu().numpy())\n",
        "            all_labels.extend(labels.cpu().numpy())\n",
        "\n",
        "        model.train(mode=was_training)\n",
        "\n",
        "    conf_matrix = confusion_matrix(all_labels, all_preds)\n",
        "    return conf_matrix"
      ]
    },
    {
      "cell_type": "markdown",
      "metadata": {
        "id": "han7bx-Bjn6F"
      },
      "source": [
        "Method to show some predictions on unseen images"
      ]
    },
    {
      "cell_type": "code",
      "execution_count": null,
      "metadata": {
        "colab": {
          "background_save": true
        },
        "id": "LRDuN4_QkDp0",
        "outputId": "44173248-5992-4de9-de33-56c2165048fe"
      },
      "outputs": [
        {
          "ename": "IndentationError",
          "evalue": "unexpected indent (<ipython-input-20-6fe40a31c119>, line 8)",
          "output_type": "error",
          "traceback": [
            "\u001b[0;36m  File \u001b[0;32m\"<ipython-input-20-6fe40a31c119>\"\u001b[0;36m, line \u001b[0;32m8\u001b[0m\n\u001b[0;31m    for i, (inputs, labels) in enumerate(data_loaders['vis']):\u001b[0m\n\u001b[0m    ^\u001b[0m\n\u001b[0;31mIndentationError\u001b[0m\u001b[0;31m:\u001b[0m unexpected indent\n"
          ]
        }
      ],
      "source": [
        "def show_predictions(model, num_of_images=6):\n",
        "    was_training = model.training\n",
        "    model.eval()\n",
        "    images_so_far = 0\n",
        "    fig = plt.figure(figsize=(12,12))\n",
        "\n",
        "    # with torch.no_grad():\n",
        "        for i, (inputs, labels) in enumerate(data_loaders['vis']):\n",
        "            inputs = inputs.to(device)\n",
        "            labels = labels.to(device)\n",
        "\n",
        "            outputs = model(inputs)\n",
        "            _, preds = torch.max(outputs, 1)\n",
        "\n",
        "            inp_size = inputs.size()[1]\n",
        "\n",
        "            for j in range(inp_size):\n",
        "                images_so_far += 1\n",
        "                ax = plt.subplot(inp_size, num_of_images//inp_size, images_so_far)\n",
        "                ax.axis('off')\n",
        "                ax.set_title(f\"pred: {class_names[preds[j]]}\\ntrue: {class_names[labels[j]]}\")\n",
        "\n",
        "                resized_image = torchvision.transforms.ToTensor()(torchvision.transforms.Resize((1024, 1024))(torchvision.transforms.ToPILImage()(inputs.cpu().data[j])))\n",
        "\n",
        "                ax.imshow(resized_image.permute(1, 2, 0))\n",
        "\n",
        "                if images_so_far == num_of_images:\n",
        "                    model.train(mode=was_training)\n",
        "                    return\n",
        "\n",
        "        model.train(mode=was_training)"
      ]
    },
    {
      "cell_type": "markdown",
      "metadata": {
        "id": "qIfEVL88WQPq"
      },
      "source": [
        "Preparing the model for feature extraction (original model's weights are freezed, classfier layer is trainable), setting the loss function, optimizer and learning rate scheduler"
      ]
    },
    {
      "cell_type": "code",
      "execution_count": null,
      "metadata": {
        "id": "1SxpZjnnWZre"
      },
      "outputs": [],
      "source": [
        "# Freeze all layers (i.e., disable training)\n",
        "for param in model.parameters():\n",
        "    param.requires_grad = False\n",
        "\n",
        "# Unfreeze final layer (named fc)\n",
        "for param in model.classifier.parameters():\n",
        "    param.requires_grad = True\n",
        "\n",
        "# Put the model on the GPU\n",
        "model = model.to(device)\n",
        "\n",
        "# Loss function\n",
        "loss_function = nn.CrossEntropyLoss()\n",
        "\n",
        "# Observe that all parameters are being optimized\n",
        "optimizer = optim.SGD(model.parameters(), lr=lr, momentum=momentum)\n",
        "\n",
        "# Decay LR by a factor of 0.1 every 7 epochs\n",
        "exp_lr_scheduler = optim.lr_scheduler.StepLR(optimizer, step_size=step_size, gamma=gamma)"
      ]
    },
    {
      "cell_type": "markdown",
      "metadata": {
        "id": "icUFpzlgXG8N"
      },
      "source": [
        "Train the model"
      ]
    },
    {
      "cell_type": "code",
      "execution_count": null,
      "metadata": {
        "colab": {
          "background_save": true,
          "base_uri": "https://localhost:8080/"
        },
        "id": "pTotTxzqXIyL",
        "outputId": "ce7e1a48-5662-42ff-8f5c-71d1f2004725"
      },
      "outputs": [
        {
          "name": "stdout",
          "output_type": "stream",
          "text": [
            "Epoch 0/19\n",
            "--------------------\n"
          ]
        },
        {
          "name": "stderr",
          "output_type": "stream",
          "text": [
            "/usr/local/lib/python3.10/dist-packages/torch/optim/lr_scheduler.py:224: UserWarning: Detected call of `lr_scheduler.step()` before `optimizer.step()`. In PyTorch 1.1.0 and later, you should call them in the opposite order: `optimizer.step()` before `lr_scheduler.step()`.  Failure to do this will result in PyTorch skipping the first value of the learning rate schedule. See more details at https://pytorch.org/docs/stable/optim.html#how-to-adjust-learning-rate\n",
            "  warnings.warn(\n"
          ]
        },
        {
          "name": "stdout",
          "output_type": "stream",
          "text": [
            "train Loss: 449.5951 Acc: 9.6168\n",
            "val Loss: 412.5135 Acc: 16.0952\n",
            "\n",
            "Epoch 1/19\n",
            "--------------------\n",
            "train Loss: 357.3969 Acc: 27.7545\n",
            "val Loss: 305.1583 Acc: 37.0952\n",
            "\n",
            "Epoch 2/19\n",
            "--------------------\n",
            "train Loss: 291.7428 Acc: 40.9581\n",
            "val Loss: 262.0760 Acc: 49.7381\n",
            "\n",
            "Epoch 3/19\n",
            "--------------------\n",
            "train Loss: 251.3671 Acc: 51.8862\n",
            "val Loss: 225.5338 Acc: 58.4048\n",
            "\n",
            "Epoch 4/19\n",
            "--------------------\n",
            "train Loss: 222.8063 Acc: 58.8683\n",
            "val Loss: 210.3690 Acc: 62.5476\n",
            "\n",
            "Epoch 5/19\n",
            "--------------------\n",
            "train Loss: 200.3676 Acc: 66.2814\n",
            "val Loss: 196.3489 Acc: 66.8810\n",
            "\n",
            "Epoch 6/19\n",
            "--------------------\n",
            "train Loss: 164.9461 Acc: 76.8623\n",
            "val Loss: 167.7689 Acc: 75.7857\n",
            "\n",
            "Epoch 7/19\n",
            "--------------------\n",
            "train Loss: 155.2931 Acc: 79.7365\n",
            "val Loss: 161.3796 Acc: 77.6667\n",
            "\n",
            "Epoch 8/19\n",
            "--------------------\n",
            "train Loss: 150.6058 Acc: 81.0659\n",
            "val Loss: 159.9554 Acc: 78.5714\n",
            "\n",
            "Epoch 9/19\n",
            "--------------------\n",
            "train Loss: 147.2434 Acc: 82.4371\n",
            "val Loss: 156.6950 Acc: 79.0714\n",
            "\n",
            "Epoch 10/19\n",
            "--------------------\n",
            "train Loss: 141.3068 Acc: 84.2036\n",
            "val Loss: 153.3847 Acc: 80.6190\n",
            "\n",
            "Epoch 11/19\n",
            "--------------------\n",
            "train Loss: 138.9657 Acc: 84.9940\n",
            "val Loss: 149.1270 Acc: 82.2619\n",
            "\n",
            "Epoch 12/19\n",
            "--------------------\n",
            "train Loss: 134.1629 Acc: 86.3473\n",
            "val Loss: 149.4624 Acc: 82.1429\n",
            "\n",
            "Epoch 13/19\n",
            "--------------------\n",
            "train Loss: 129.9502 Acc: 87.7605\n",
            "val Loss: 144.3036 Acc: 83.6667\n",
            "\n",
            "Epoch 14/19\n",
            "--------------------\n",
            "train Loss: 128.0956 Acc: 88.3832\n",
            "val Loss: 148.1048 Acc: 82.7143\n",
            "\n",
            "Epoch 15/19\n",
            "--------------------\n",
            "train Loss: 128.2977 Acc: 88.5090\n",
            "val Loss: 147.1767 Acc: 83.4524\n",
            "\n",
            "Epoch 16/19\n",
            "--------------------\n",
            "train Loss: 128.1662 Acc: 88.6826\n",
            "val Loss: 143.9956 Acc: 83.7857\n",
            "\n",
            "Epoch 17/19\n",
            "--------------------\n",
            "train Loss: 127.5195 Acc: 88.6766\n",
            "val Loss: 145.7565 Acc: 83.1190\n",
            "\n",
            "Epoch 18/19\n",
            "--------------------\n",
            "train Loss: 128.3840 Acc: 88.5988\n",
            "val Loss: 145.1459 Acc: 83.2857\n",
            "\n",
            "Epoch 19/19\n",
            "--------------------\n",
            "train Loss: 126.8520 Acc: 88.5988\n",
            "val Loss: 147.5617 Acc: 82.5476\n",
            "\n",
            "Training complete in 23m 8s\n",
            "Best val Acc: 83.785714\n"
          ]
        },
        {
          "data": {
            "image/png": "[encoded data removed]",
            "text/plain": [
              "<Figure size 1200x400 with 2 Axes>"
            ]
          },
          "metadata": {},
          "output_type": "display_data"
        }
      ],
      "source": [
        "model = train_model(model, loss_function, optimizer, exp_lr_scheduler, num_epochs=epochs)"
      ]
    },
    {
      "cell_type": "markdown",
      "metadata": {
        "id": "y-_m07s0XfoS"
      },
      "source": [
        "Evaluate the model form the test data loader"
      ]
    },
    {
      "cell_type": "code",
      "execution_count": null,
      "metadata": {
        "id": "nbDNQFD2XbuO"
      },
      "outputs": [],
      "source": [
        "# conf_matrix = evaluate_model(model)\n",
        "\n",
        "# plt.figure(figsize=(30,30))\n",
        "# sns.heatmap(conf_matrix, annot=True, fmt=\"d\", cmap=\"Blues\")\n",
        "# plt.xlabel(\"Predicted Label\")\n",
        "# plt.ylabel(\"True Label\")\n",
        "# plt.title(\"Confusion Matrix\")\n",
        "# plt.show()"
      ]
    },
    {
      "cell_type": "markdown",
      "metadata": {
        "id": "M6kFn2p9kzFu"
      },
      "source": [
        "Show some predictions with the model"
      ]
    },
    {
      "cell_type": "code",
      "execution_count": null,
      "metadata": {
        "id": "cm8lSE5ok2CB"
      },
      "outputs": [],
      "source": [
        "# show_predictions(model) # 6 images are shown by default"
      ]
    },
    {
      "cell_type": "markdown",
      "metadata": {
        "id": "UfipAajkXpTh"
      },
      "source": [
        "Fine tuning model"
      ]
    },
    {
      "cell_type": "code",
      "execution_count": null,
      "metadata": {
        "id": "wpi4Vl8jXrM5"
      },
      "outputs": [],
      "source": [
        "for param in model.parameters(): # unfreeze every trainable parameter\n",
        "    param.requires_grad = True"
      ]
    },
    {
      "cell_type": "markdown",
      "metadata": {
        "id": "lcE3M6S0X3zq"
      },
      "source": [
        "Train the model again"
      ]
    },
    {
      "cell_type": "code",
      "execution_count": null,
      "metadata": {
        "id": "s-cOIWbDX3U1"
      },
      "outputs": [],
      "source": [
        "model = train_model(model, loss_function, optimizer, exp_lr_scheduler, num_epochs=epochs)"
      ]
    },
    {
      "cell_type": "markdown",
      "metadata": {
        "id": "EgTWsUGgX7On"
      },
      "source": [
        "Show some predictions with the fine tuned model again"
      ]
    },
    {
      "cell_type": "code",
      "execution_count": null,
      "metadata": {
        "id": "B2szfrtZX_3I"
      },
      "outputs": [],
      "source": [
        "# conf_matrix = evaluate_model(model)\n",
        "\n",
        "# plt.figure(figsize=(30,30))\n",
        "# sns.heatmap(conf_matrix, annot=True, fmt=\"d\", cmap=\"Blues\")\n",
        "# plt.xlabel(\"Predicted Label\")\n",
        "# plt.ylabel(\"True Label\")\n",
        "# plt.title(\"Confusion Matrix\")\n",
        "# plt.show()"
      ]
    }
  ],
  "metadata": {
    "accelerator": "GPU",
    "colab": {
      "gpuType": "T4",
      "provenance": []
    },
    "kernelspec": {
      "display_name": "Python 3",
      "name": "python3"
    },
    "language_info": {
      "codemirror_mode": {
        "name": "ipython",
        "version": 3
      },
      "file_extension": ".py",
      "mimetype": "text/x-python",
      "name": "python",
      "nbconvert_exporter": "python",
      "pygments_lexer": "ipython3",
      "version": "3.12.0"
    }
  },
  "nbformat": 4,
  "nbformat_minor": 0
}